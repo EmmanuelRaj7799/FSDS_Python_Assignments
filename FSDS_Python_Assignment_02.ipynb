{
 "cells": [
  {
   "cell_type": "markdown",
   "id": "1a921168",
   "metadata": {},
   "source": [
    "## 1.What is indentation error? Why indentation is important? Give one simple example?\n",
    "### The indentation error can occur when the spaces or tabs are not placed properly. There will not be an issue if the interpreter does not find any issues with the spaces or tabs. If there is an error due to indentation, it will come in between the execution and can be a show stopper. \n",
    "### Indentation refers to the spaces at the beginning of a code line. Where in other programming languages the indentation in code is for readability only, the indentation in Python is very important. Python uses indentation to indicate a block of code.\n",
    "### if-else statement is the Best Example for the Indentation."
   ]
  },
  {
   "cell_type": "markdown",
   "id": "c421b573",
   "metadata": {},
   "source": [
    "## 2. Correct the following code and write the comment where you made the correction?"
   ]
  },
  {
   "cell_type": "code",
   "execution_count": null,
   "id": "46d9c096",
   "metadata": {},
   "outputs": [],
   "source": [
    "class_started = bool(input(\"Hey friend, is class started?: [0-False/1-True]\"))\n",
    "\n",
    "if class_started:\n",
    "   print(\"Since class started...\")\n",
    "   print(\"Let's concentrate\")\n",
    "else:\n",
    "   print(\"Since class is not started...\")\n",
    "   print(\"let's revise\") "
   ]
  },
  {
   "cell_type": "code",
   "execution_count": null,
   "id": "0f831e63",
   "metadata": {},
   "outputs": [],
   "source": [
    "class_started = bool(input(\"Hey friend, is class started?: [0-False/1-True]\"))\n",
    "\n",
    "if not class_started: # We have to Put 'Not' for False or '0' to Execute the 'else' Part\n",
    "   print(\"Since class started...\")\n",
    "   print(\"Let's concentrate\")\n",
    "else:\n",
    "   print(\"Since class is not started...\")\n",
    "   print(\"let's revise\") "
   ]
  },
  {
   "cell_type": "markdown",
   "id": "83894d71",
   "metadata": {},
   "source": [
    "## 3. Use if else condition to verify that dataype of input() method in python is always string."
   ]
  },
  {
   "cell_type": "markdown",
   "id": "a02ba6c9",
   "metadata": {},
   "source": [
    "Python will Always take User Input as a String Untill and Unless We Put A Datatype before the input().Like int(input()), bool(input()) etc."
   ]
  },
  {
   "cell_type": "code",
   "execution_count": null,
   "id": "77041f87",
   "metadata": {},
   "outputs": [],
   "source": [
    "A = input(\"Enter value of A: \")\n",
    "B = input(\"Enter value of B: \")\n",
    "\n",
    "print(type(A), type(B))"
   ]
  },
  {
   "cell_type": "markdown",
   "id": "e2a51c03",
   "metadata": {},
   "source": [
    "## 4. Take 3 variables and assign integer values to them. Find the largest variable, by only using the if and else conditions."
   ]
  },
  {
   "cell_type": "code",
   "execution_count": null,
   "id": "4b1165d1",
   "metadata": {},
   "outputs": [],
   "source": [
    "n1 = int(input('Enter the 1st Number'))\n",
    "n2 = int(input('Enter the 2nd Number'))\n",
    "n3 = int(input('Enter the 3rd Number'))\n",
    "\n",
    "if n1>n2:\n",
    "    if n1>n3:\n",
    "        print('n1 is the Largest Variable')\n",
    "    else:\n",
    "        print('n3 is the Largest Variable')\n",
    "elif n2>n3:\n",
    "    print('n2 is the Largest Variable')\n",
    "else:\n",
    "    print('n3 is the Largest Variable')"
   ]
  },
  {
   "cell_type": "code",
   "execution_count": null,
   "id": "b6363989",
   "metadata": {},
   "outputs": [],
   "source": [
    "n1 = int(input('Enter the 1st Number'))\n",
    "n2 = int(input('Enter the 2nd Number'))\n",
    "n3 = int(input('Enter the 3rd Number'))\n",
    "\n",
    "if n1>n2:\n",
    "    if n1>n3:\n",
    "        print('n1 is the Largest Variable')\n",
    "    else:\n",
    "        print('n3 is the Largest Variable')\n",
    "elif n2>n3:\n",
    "    print('n2 is the Largest Variable')\n",
    "else:\n",
    "    print('n3 is the Largest Variable')"
   ]
  },
  {
   "cell_type": "code",
   "execution_count": null,
   "id": "00d203de",
   "metadata": {},
   "outputs": [],
   "source": [
    "n1 = int(input('Enter the 1st Number'))\n",
    "n2 = int(input('Enter the 2nd Number'))\n",
    "n3 = int(input('Enter the 3rd Number'))\n",
    "\n",
    "if n1>n2:\n",
    "    if n1>n3:\n",
    "        print('n1 is the Largest Variable')\n",
    "    else:\n",
    "        print('n3 is the Largest Variable')\n",
    "elif n2>n3:\n",
    "    print('n2 is the Largest Variable')\n",
    "else:\n",
    "    print('n3 is the Largest Variable')"
   ]
  },
  {
   "cell_type": "markdown",
   "id": "525a167d",
   "metadata": {},
   "source": [
    "## 5. What would be the solution?\n",
    "\n",
    "### 1.True\n",
    "\n",
    "### 2.False"
   ]
  },
  {
   "cell_type": "code",
   "execution_count": null,
   "id": "e55733f2",
   "metadata": {},
   "outputs": [],
   "source": [
    "a = 6\n",
    "b = 10\n",
    "print( not ( not a == 10 or not b == 10) )\n",
    "\n",
    "# Solution is Option 2 'FALSE'"
   ]
  },
  {
   "cell_type": "markdown",
   "id": "f1eb896e",
   "metadata": {},
   "source": [
    "## 6. Find the answer as well as find out the reason behind the result?\n",
    "### Case-1:\n",
    "### In All The Cases The Values of A and B are taking Different Locations. Even though the Calculation is True but the Answer is False."
   ]
  },
  {
   "cell_type": "code",
   "execution_count": null,
   "id": "c7ffc266",
   "metadata": {},
   "outputs": [],
   "source": [
    "A = 5.0\n",
    "B = 10/2\n",
    "print(A is B)"
   ]
  },
  {
   "cell_type": "markdown",
   "id": "dea839ca",
   "metadata": {},
   "source": [
    "### Case-2:"
   ]
  },
  {
   "cell_type": "code",
   "execution_count": null,
   "id": "dadfafdb",
   "metadata": {},
   "outputs": [],
   "source": [
    "A = 5.0\n",
    "B = int(10/2)\n",
    "print(A is B)"
   ]
  },
  {
   "cell_type": "markdown",
   "id": "57fff6ce",
   "metadata": {},
   "source": [
    "### Case-3:"
   ]
  },
  {
   "cell_type": "code",
   "execution_count": null,
   "id": "bb261a6f",
   "metadata": {},
   "outputs": [],
   "source": [
    "A = 5.0\n",
    "B = float(10/2)\n",
    "print(A is B)"
   ]
  },
  {
   "cell_type": "markdown",
   "id": "ad2264d0",
   "metadata": {},
   "source": [
    "## 7. Write a program that asks the user to enter a number. You should print out a message to the user, either “That number is divisible by either 3 or 5”, or “That number is not divisible by either 3 or 5”. Be sure to consider the data type of the input you are taking in from the user. Use a single if/else block to solve this problem."
   ]
  },
  {
   "cell_type": "code",
   "execution_count": null,
   "id": "803ee1e2",
   "metadata": {},
   "outputs": [],
   "source": [
    "num = int(input('Enter the Number: '))\n",
    "if (num % 3 == 0 or num % 5 == 0):\n",
    "    print('The Number is Divisible by Either 3 or 5')\n",
    "else:\n",
    "    print('The Number is Not Divisible by Either 3 or 5')"
   ]
  },
  {
   "cell_type": "markdown",
   "id": "4644085e",
   "metadata": {},
   "source": [
    "## 8. Take user input for length and width. Then calculate the area of rectangle. Also print as per length and width whether its a square of rectangle."
   ]
  },
  {
   "cell_type": "code",
   "execution_count": null,
   "id": "f6b8d2ec",
   "metadata": {},
   "outputs": [],
   "source": [
    "length = int(input('Enter Length: '))\n",
    "width = int(input('Enter Width: '))\n",
    "\n",
    "if length == width:\n",
    "    print('It is a SQUARE')\n",
    "else:\n",
    "    print('It is a RECTANGLE')\n",
    "    \n",
    "print('Area: ' + str(length*width))"
   ]
  },
  {
   "cell_type": "code",
   "execution_count": null,
   "id": "15a60383",
   "metadata": {},
   "outputs": [],
   "source": [
    "length = int(input('Enter Length: '))\n",
    "width = int(input('Enter Width: '))\n",
    "\n",
    "if length == width:\n",
    "    print('It is a SQUARE')\n",
    "else:\n",
    "    print('It is a RECTANGLE')\n",
    "    \n",
    "print('Area: ' + str(length*width))"
   ]
  },
  {
   "cell_type": "markdown",
   "id": "3544d47e",
   "metadata": {},
   "source": [
    "## 9. Take two variable radius_1 and radius_2 and calculate the area of circle_1 and circle_2. Also print which circle has large area. If area is equal then print area is equal."
   ]
  },
  {
   "cell_type": "code",
   "execution_count": null,
   "id": "a40b7701",
   "metadata": {},
   "outputs": [],
   "source": [
    "radius_1 = int(input('Enter radius_1 '))\n",
    "radius_2 = int(input('Enter radius_2 '))\n",
    "\n",
    "if 3.14*radius_1*radius_1 != 3.14*radius_2*radius_2:\n",
    "    if 3.14*radius_1*radius_1 > 3.14*radius_2*radius_2:\n",
    "        print('Circle 1 has Large area. Area: ' + str(3.14*radius_1*radius_1))\n",
    "    else:\n",
    "        print('Circle 2 has Large area. Area: ' + str(3.14*radius_2*radius_2))\n",
    "else:\n",
    "    print('Bothe The Circles has Same area. Area: ' + str(3.14*radius_1*radius_1))"
   ]
  },
  {
   "cell_type": "markdown",
   "id": "84d0c602",
   "metadata": {},
   "source": [
    "## 10. Check whether a year is leap year or not. Use nested if...else to solve this problem. A leap year is exactly divisible by 4 except for century years (years ending with 00). The century year is a leap year only if it is perfectly divisible by 400."
   ]
  },
  {
   "cell_type": "code",
   "execution_count": null,
   "id": "795a6111",
   "metadata": {},
   "outputs": [],
   "source": [
    "Year = int(input('Enter The Year: '))\n",
    "if Year % 400 == 0:\n",
    "    print(Year, 'is a Leap Year')\n",
    "elif Year % 4 == 0 & Year % 100 != 0:\n",
    "    print(Year, 'is Leap Year')\n",
    "else:\n",
    "    print(Year, 'is Not a Leap Year')"
   ]
  },
  {
   "cell_type": "code",
   "execution_count": null,
   "id": "d6f8a42d",
   "metadata": {},
   "outputs": [],
   "source": [
    "Year = int(input('Enter The Year: '))\n",
    "if Year % 400 == 0:\n",
    "    print(Year, 'is Leap Year')\n",
    "elif Year % 4 == 0 & Year % 100 != 0:\n",
    "    print(Year, 'is Leap Year')\n",
    "else:\n",
    "    print(Year, 'is Not a Leap Year')"
   ]
  },
  {
   "cell_type": "code",
   "execution_count": null,
   "id": "9c7a35ae",
   "metadata": {},
   "outputs": [],
   "source": []
  }
 ],
 "metadata": {
  "kernelspec": {
   "display_name": "Python 3 (ipykernel)",
   "language": "python",
   "name": "python3"
  },
  "language_info": {
   "codemirror_mode": {
    "name": "ipython",
    "version": 3
   },
   "file_extension": ".py",
   "mimetype": "text/x-python",
   "name": "python",
   "nbconvert_exporter": "python",
   "pygments_lexer": "ipython3",
   "version": "3.9.12"
  }
 },
 "nbformat": 4,
 "nbformat_minor": 5
}
