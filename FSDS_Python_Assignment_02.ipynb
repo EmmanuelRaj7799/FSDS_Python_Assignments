{
 "cells": [
  {
   "cell_type": "markdown",
   "id": "75987189",
   "metadata": {},
   "source": [
    "## 1.What is indentation error? Why indentation is important? Give one simple example?\n",
    "### The indentation error can occur when the spaces or tabs are not placed properly. There will not be an issue if the interpreter does not find any issues with the spaces or tabs. If there is an error due to indentation, it will come in between the execution and can be a show stopper. \n",
    "### Indentation refers to the spaces at the beginning of a code line. Where in other programming languages the indentation in code is for readability only, the indentation in Python is very important. Python uses indentation to indicate a block of code.\n",
    "### if-else statement is the Best Example for the Indentation."
   ]
  },
  {
   "cell_type": "markdown",
   "id": "5c75fbaa",
   "metadata": {},
   "source": [
    "## 2. Correct the following code and write the comment where you made the correction?"
   ]
  },
  {
   "cell_type": "code",
   "execution_count": 1,
   "id": "73104495",
   "metadata": {},
   "outputs": [
    {
     "name": "stdout",
     "output_type": "stream",
     "text": [
      "Hey friend, is class started?: [0-False/1-True]True\n",
      "Since class started...\n",
      "Let's concentrate\n"
     ]
    }
   ],
   "source": [
    "class_started = bool(input(\"Hey friend, is class started?: [0-False/1-True]\"))\n",
    "\n",
    "if class_started:\n",
    "   print(\"Since class started...\")\n",
    "   print(\"Let's concentrate\")\n",
    "else:\n",
    "   print(\"Since class is not started...\")\n",
    "   print(\"let's revise\") "
   ]
  },
  {
   "cell_type": "code",
   "execution_count": 2,
   "id": "5bbdadf7",
   "metadata": {},
   "outputs": [
    {
     "name": "stdout",
     "output_type": "stream",
     "text": [
      "Hey friend, is class started?: [0-False/1-True]False\n",
      "Since class is not started...\n",
      "let's revise\n"
     ]
    }
   ],
   "source": [
    "class_started = bool(input(\"Hey friend, is class started?: [0-False/1-True]\"))\n",
    "\n",
    "if not class_started: # We have to Put 'Not' for False or '0' to Execute the 'else' Part\n",
    "   print(\"Since class started...\")\n",
    "   print(\"Let's concentrate\")\n",
    "else:\n",
    "   print(\"Since class is not started...\")\n",
    "   print(\"let's revise\") "
   ]
  },
  {
   "cell_type": "markdown",
   "id": "875e3860",
   "metadata": {},
   "source": [
    "## 3. Use if else condition to verify that dataype of input() method in python is always string."
   ]
  },
  {
   "cell_type": "markdown",
   "id": "fb106424",
   "metadata": {},
   "source": [
    "Python will Always take User Input as a String Untill and Unless We Put A Datatype before the input().Like int(input()), bool(input()) etc."
   ]
  },
  {
   "cell_type": "code",
   "execution_count": 3,
   "id": "09b6555b",
   "metadata": {},
   "outputs": [
    {
     "name": "stdout",
     "output_type": "stream",
     "text": [
      "Enter value of A: 25\n",
      "Enter value of B: Raj\n",
      "<class 'str'> <class 'str'>\n"
     ]
    }
   ],
   "source": [
    "A = input(\"Enter value of A: \")\n",
    "B = input(\"Enter value of B: \")\n",
    "\n",
    "print(type(A), type(B))"
   ]
  },
  {
   "cell_type": "markdown",
   "id": "c31ff73d",
   "metadata": {},
   "source": [
    "## 4. Take 3 variables and assign integer values to them. Find the largest variable, by only using the if and else conditions."
   ]
  },
  {
   "cell_type": "code",
   "execution_count": 4,
   "id": "5ad932c3",
   "metadata": {},
   "outputs": [
    {
     "name": "stdout",
     "output_type": "stream",
     "text": [
      "Enter the 1st Number25\n",
      "Enter the 2nd Number30\n",
      "Enter the 3rd Number20\n",
      "n2 is the Largest Variable\n"
     ]
    }
   ],
   "source": [
    "n1 = int(input('Enter the 1st Number'))\n",
    "n2 = int(input('Enter the 2nd Number'))\n",
    "n3 = int(input('Enter the 3rd Number'))\n",
    "\n",
    "if n1>n2:\n",
    "    if n1>n3:\n",
    "        print('n1 is the Largest Variable')\n",
    "    else:\n",
    "        print('n3 is the Largest Variable')\n",
    "elif n2>n3:\n",
    "    print('n2 is the Largest Variable')\n",
    "else:\n",
    "    print('n3 is the Largest Variable')"
   ]
  },
  {
   "cell_type": "code",
   "execution_count": 5,
   "id": "cc7b49ea",
   "metadata": {},
   "outputs": [
    {
     "name": "stdout",
     "output_type": "stream",
     "text": [
      "Enter the 1st Number30\n",
      "Enter the 2nd Number25\n",
      "Enter the 3rd Number20\n",
      "n1 is the Largest Variable\n"
     ]
    }
   ],
   "source": [
    "n1 = int(input('Enter the 1st Number'))\n",
    "n2 = int(input('Enter the 2nd Number'))\n",
    "n3 = int(input('Enter the 3rd Number'))\n",
    "\n",
    "if n1>n2:\n",
    "    if n1>n3:\n",
    "        print('n1 is the Largest Variable')\n",
    "    else:\n",
    "        print('n3 is the Largest Variable')\n",
    "elif n2>n3:\n",
    "    print('n2 is the Largest Variable')\n",
    "else:\n",
    "    print('n3 is the Largest Variable')"
   ]
  },
  {
   "cell_type": "code",
   "execution_count": 6,
   "id": "52b68178",
   "metadata": {},
   "outputs": [
    {
     "name": "stdout",
     "output_type": "stream",
     "text": [
      "Enter the 1st Number20\n",
      "Enter the 2nd Number25\n",
      "Enter the 3rd Number30\n",
      "n3 is the Largest Variable\n"
     ]
    }
   ],
   "source": [
    "n1 = int(input('Enter the 1st Number'))\n",
    "n2 = int(input('Enter the 2nd Number'))\n",
    "n3 = int(input('Enter the 3rd Number'))\n",
    "\n",
    "if n1>n2:\n",
    "    if n1>n3:\n",
    "        print('n1 is the Largest Variable')\n",
    "    else:\n",
    "        print('n3 is the Largest Variable')\n",
    "elif n2>n3:\n",
    "    print('n2 is the Largest Variable')\n",
    "else:\n",
    "    print('n3 is the Largest Variable')"
   ]
  },
  {
   "cell_type": "markdown",
   "id": "a0abe61c",
   "metadata": {},
   "source": [
    "## 5. What would be the solution?\n",
    "\n",
    "### 1.True\n",
    "\n",
    "### 2.False"
   ]
  },
  {
   "cell_type": "code",
   "execution_count": 7,
   "id": "3a45177e",
   "metadata": {},
   "outputs": [
    {
     "name": "stdout",
     "output_type": "stream",
     "text": [
      "False\n"
     ]
    }
   ],
   "source": [
    "a = 6\n",
    "b = 10\n",
    "print( not ( not a == 10 or not b == 10) )\n",
    "\n",
    "# Solution is Option 2 'FALSE'"
   ]
  },
  {
   "cell_type": "markdown",
   "id": "7cab402c",
   "metadata": {},
   "source": [
    "## 6. Find the answer as well as find out the reason behind the result?\n",
    "### Case-1:\n",
    "### In All The Cases The Values of A and B are taking Different Locations. Even though the Calculation is True but the Answer is False."
   ]
  },
  {
   "cell_type": "code",
   "execution_count": 8,
   "id": "d6d8e00f",
   "metadata": {},
   "outputs": [
    {
     "name": "stdout",
     "output_type": "stream",
     "text": [
      "False\n"
     ]
    }
   ],
   "source": [
    "A = 5.0\n",
    "B = 10/2\n",
    "print(A is B)"
   ]
  },
  {
   "cell_type": "markdown",
   "id": "32571f25",
   "metadata": {},
   "source": [
    "### Case-2:"
   ]
  },
  {
   "cell_type": "code",
   "execution_count": 9,
   "id": "1c6a7721",
   "metadata": {},
   "outputs": [
    {
     "name": "stdout",
     "output_type": "stream",
     "text": [
      "False\n"
     ]
    }
   ],
   "source": [
    "A = 5.0\n",
    "B = int(10/2)\n",
    "print(A is B)"
   ]
  },
  {
   "cell_type": "markdown",
   "id": "205d5635",
   "metadata": {},
   "source": [
    "### Case-3:"
   ]
  },
  {
   "cell_type": "code",
   "execution_count": 10,
   "id": "3e8df6ca",
   "metadata": {},
   "outputs": [
    {
     "name": "stdout",
     "output_type": "stream",
     "text": [
      "False\n"
     ]
    }
   ],
   "source": [
    "A = 5.0\n",
    "B = float(10/2)\n",
    "print(A is B)"
   ]
  },
  {
   "cell_type": "markdown",
   "id": "2b1a1e47",
   "metadata": {},
   "source": [
    "## 7. Write a program that asks the user to enter a number. You should print out a message to the user, either “That number is divisible by either 3 or 5”, or “That number is not divisible by either 3 or 5”. Be sure to consider the data type of the input you are taking in from the user. Use a single if/else block to solve this problem."
   ]
  },
  {
   "cell_type": "code",
   "execution_count": 11,
   "id": "7e8c1b0f",
   "metadata": {},
   "outputs": [
    {
     "name": "stdout",
     "output_type": "stream",
     "text": [
      "Enter the Number: 31\n",
      "The Number is Not Divisible by Either 3 or 5\n"
     ]
    }
   ],
   "source": [
    "num = int(input('Enter the Number: '))\n",
    "if (num % 3 == 0 or num % 5 == 0):\n",
    "    print('The Number is Divisible by Either 3 or 5')\n",
    "else:\n",
    "    print('The Number is Not Divisible by Either 3 or 5')"
   ]
  },
  {
   "cell_type": "markdown",
   "id": "e20b1239",
   "metadata": {},
   "source": [
    "## 8. Take user input for length and width. Then calculate the area of rectangle. Also print as per length and width whether its a square of rectangle."
   ]
  },
  {
   "cell_type": "code",
   "execution_count": 12,
   "id": "46564c97",
   "metadata": {},
   "outputs": [
    {
     "name": "stdout",
     "output_type": "stream",
     "text": [
      "Enter Length: 7\n",
      "Enter Width: 9\n",
      "It is a RECTANGLE\n",
      "Area: 63\n"
     ]
    }
   ],
   "source": [
    "length = int(input('Enter Length: '))\n",
    "width = int(input('Enter Width: '))\n",
    "\n",
    "if length == width:\n",
    "    print('It is a SQUARE')\n",
    "else:\n",
    "    print('It is a RECTANGLE')\n",
    "    \n",
    "print('Area: ' + str(length*width))"
   ]
  },
  {
   "cell_type": "code",
   "execution_count": 13,
   "id": "4b7e003e",
   "metadata": {},
   "outputs": [
    {
     "name": "stdout",
     "output_type": "stream",
     "text": [
      "Enter Length: 5\n",
      "Enter Width: 5\n",
      "It is a SQUARE\n",
      "Area: 25\n"
     ]
    }
   ],
   "source": [
    "length = int(input('Enter Length: '))\n",
    "width = int(input('Enter Width: '))\n",
    "\n",
    "if length == width:\n",
    "    print('It is a SQUARE')\n",
    "else:\n",
    "    print('It is a RECTANGLE')\n",
    "    \n",
    "print('Area: ' + str(length*width))"
   ]
  },
  {
   "cell_type": "markdown",
   "id": "73a59fe6",
   "metadata": {},
   "source": [
    "## 9. Take two variable radius_1 and radius_2 and calculate the area of circle_1 and circle_2. Also print which circle has large area. If area is equal then print area is equal."
   ]
  },
  {
   "cell_type": "code",
   "execution_count": 14,
   "id": "dd2acd72",
   "metadata": {},
   "outputs": [
    {
     "name": "stdout",
     "output_type": "stream",
     "text": [
      "Enter radius_1 6\n",
      "Enter radius_2 8\n",
      "Circle 2 has Large area. Area: 200.96\n"
     ]
    }
   ],
   "source": [
    "radius_1 = int(input('Enter radius_1 '))\n",
    "radius_2 = int(input('Enter radius_2 '))\n",
    "\n",
    "if 3.14*radius_1*radius_1 != 3.14*radius_2*radius_2:\n",
    "    if 3.14*radius_1*radius_1 > 3.14*radius_2*radius_2:\n",
    "        print('Circle 1 has Large area. Area: ' + str(3.14*radius_1*radius_1))\n",
    "    else:\n",
    "        print('Circle 2 has Large area. Area: ' + str(3.14*radius_2*radius_2))\n",
    "else:\n",
    "    print('Bothe The Circles has Same area. Area: ' + str(3.14*radius_1*radius_1))"
   ]
  },
  {
   "cell_type": "markdown",
   "id": "d5fdb9ed",
   "metadata": {},
   "source": [
    "## 10. Check whether a year is leap year or not. Use nested if...else to solve this problem. A leap year is exactly divisible by 4 except for century years (years ending with 00). The century year is a leap year only if it is perfectly divisible by 400."
   ]
  },
  {
   "cell_type": "code",
   "execution_count": 15,
   "id": "ad236db9",
   "metadata": {},
   "outputs": [
    {
     "name": "stdout",
     "output_type": "stream",
     "text": [
      "Enter The Year: 2000\n",
      "2000 is a Leap Year\n"
     ]
    }
   ],
   "source": [
    "Year = int(input('Enter The Year: '))\n",
    "if Year % 400 == 0:\n",
    "    print(Year, 'is a Leap Year')\n",
    "elif Year % 4 == 0 & Year % 100 != 0:\n",
    "    print(Year, 'is Leap Year')\n",
    "else:\n",
    "    print(Year, 'is Not a Leap Year')"
   ]
  },
  {
   "cell_type": "code",
   "execution_count": 16,
   "id": "6aa43a35",
   "metadata": {},
   "outputs": [
    {
     "name": "stdout",
     "output_type": "stream",
     "text": [
      "Enter The Year: 2200\n",
      "2200 is Not a Leap Year\n"
     ]
    }
   ],
   "source": [
    "Year = int(input('Enter The Year: '))\n",
    "if Year % 400 == 0:\n",
    "    print(Year, 'is Leap Year')\n",
    "elif Year % 4 == 0 & Year % 100 != 0:\n",
    "    print(Year, 'is Leap Year')\n",
    "else:\n",
    "    print(Year, 'is Not a Leap Year')"
   ]
  },
  {
   "cell_type": "code",
   "execution_count": null,
   "id": "3ec6679b",
   "metadata": {},
   "outputs": [],
   "source": []
  }
 ],
 "metadata": {
  "kernelspec": {
   "display_name": "Python 3 (ipykernel)",
   "language": "python",
   "name": "python3"
  },
  "language_info": {
   "codemirror_mode": {
    "name": "ipython",
    "version": 3
   },
   "file_extension": ".py",
   "mimetype": "text/x-python",
   "name": "python",
   "nbconvert_exporter": "python",
   "pygments_lexer": "ipython3",
   "version": "3.9.12"
  }
 },
 "nbformat": 4,
 "nbformat_minor": 5
}
